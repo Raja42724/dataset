{
 "cells": [
  {
   "cell_type": "markdown",
   "id": "e5ef12e0",
   "metadata": {},
   "source": [
    "# Task - 4.3"
   ]
  },
  {
   "cell_type": "code",
   "execution_count": 1,
   "id": "606ce17b",
   "metadata": {},
   "outputs": [],
   "source": [
    "import cv2"
   ]
  },
  {
   "cell_type": "code",
   "execution_count": 4,
   "id": "2503c0a0",
   "metadata": {},
   "outputs": [],
   "source": [
    "img1 = cv2.imread('the-sun-shining-brightly-over-knoxville-tennessee1.jpg',1)[0:612,0:612]"
   ]
  },
  {
   "cell_type": "code",
   "execution_count": 10,
   "id": "3851b766",
   "metadata": {},
   "outputs": [],
   "source": [
    "img2 = cv2.imread('moon.jpg',1)[0:612,0:612]"
   ]
  },
  {
   "cell_type": "code",
   "execution_count": 11,
   "id": "f31cf6f3",
   "metadata": {},
   "outputs": [],
   "source": [
    "import numpy as np"
   ]
  },
  {
   "cell_type": "code",
   "execution_count": 12,
   "id": "68c30774",
   "metadata": {},
   "outputs": [],
   "source": [
    "image = np.hstack((img1,img2))\n",
    "cv2.imshow('combine',image)\n",
    "cv2.waitKey()\n",
    "cv2.destroyAllWindows()"
   ]
  },
  {
   "cell_type": "code",
   "execution_count": 19,
   "id": "4fb5b02e",
   "metadata": {},
   "outputs": [],
   "source": [
    "x=img1[100:500,200:600]\n",
    "y=img2[100:500,100:500]"
   ]
  },
  {
   "cell_type": "code",
   "execution_count": 20,
   "id": "fdfabe69",
   "metadata": {},
   "outputs": [],
   "source": [
    "image = np.vstack((x,y))\n",
    "cv2.imshow('combine',image)\n",
    "cv2.waitKey()\n",
    "cv2.destroyAllWindows()"
   ]
  },
  {
   "cell_type": "code",
   "execution_count": null,
   "id": "c6494854",
   "metadata": {},
   "outputs": [],
   "source": []
  }
 ],
 "metadata": {
  "kernelspec": {
   "display_name": "Python 3",
   "language": "python",
   "name": "python3"
  },
  "language_info": {
   "codemirror_mode": {
    "name": "ipython",
    "version": 3
   },
   "file_extension": ".py",
   "mimetype": "text/x-python",
   "name": "python",
   "nbconvert_exporter": "python",
   "pygments_lexer": "ipython3",
   "version": "3.8.8"
  }
 },
 "nbformat": 4,
 "nbformat_minor": 5
}
